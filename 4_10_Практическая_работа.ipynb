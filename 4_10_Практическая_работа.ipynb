{
  "cells": [
    {
      "cell_type": "markdown",
      "id": "a46773f4",
      "metadata": {
        "id": "a46773f4"
      },
      "source": [
        "# Введение в Python. Практическая работа\n",
        "\n",
        "### Цель работы\n",
        "Закрепить пройденный материал:\n",
        "* работа в Jupyter Notebook;\n",
        "* арифметические операции;\n",
        "* работа с функцией print().\n",
        "\n",
        "### Что нужно сделать\n",
        "Выполните предложенные ниже задачи.\n",
        "\n",
        "### Что оценивается\n",
        "Для каждой задачи:\n",
        "* программа выполняет все описанные в задаче действия;\n",
        "* результаты вычислений и применённых операций корректны;\n",
        "* производится информативный вывод на экран с указанием того, что выводится.\n",
        "\n",
        "### Как отправить работу на проверку\n",
        "Выполните предложенные задачи, сохраните изменения, используя опцию Save and Checkpoint из вкладки меню File или кнопку Save and Checkpoint на панели инструментов. Итоговый файл .ipynb (файл Jupyter Notebook) или ссылку на него отправьте на проверку.\n",
        "\n",
        "---"
      ]
    },
    {
      "cell_type": "markdown",
      "id": "edc32e30",
      "metadata": {
        "id": "edc32e30"
      },
      "source": [
        "1. В вашем отделе работает пять человек, их возраст 23, 27, 33, 41 и 62 года. Создайте новую ячейку и напишите в ней выражение, которое рассчитало бы средний возраст сотрудника вашего отдела."
      ]
    },
    {
      "cell_type": "code",
      "execution_count": 2,
      "id": "2eef6ec2-624a-42b5-87c4-f916f7af6e92",
      "metadata": {
        "id": "2eef6ec2-624a-42b5-87c4-f916f7af6e92"
      },
      "outputs": [
        {
          "data": {
            "text/plain": [
              "37.2"
            ]
          },
          "execution_count": 2,
          "metadata": {},
          "output_type": "execute_result"
        }
      ],
      "source": [
        "_list = [23, 27, 33, 41, 62]\n",
        "average = sum(_list) / len(_list)\n",
        "average"
      ]
    },
    {
      "cell_type": "markdown",
      "id": "ba0254b5",
      "metadata": {
        "id": "ba0254b5"
      },
      "source": [
        "2. По наследству вам досталась советская кафельная плитка размером 15 х 15 см, 200 штук. Создайте новую ячейку и напишите в ней выражение, которое рассчитывало бы площадь этой плитки в квадратных метрах."
      ]
    },
    {
      "cell_type": "code",
      "execution_count": 15,
      "id": "5ee5caee-8796-4c42-8fcc-d67eff33c4e6",
      "metadata": {
        "id": "5ee5caee-8796-4c42-8fcc-d67eff33c4e6"
      },
      "outputs": [
        {
          "name": "stdout",
          "output_type": "stream",
          "text": [
            "225\n"
          ]
        }
      ],
      "source": [
        "print(15*15)"
      ]
    },
    {
      "cell_type": "markdown",
      "id": "56062770",
      "metadata": {
        "id": "56062770"
      },
      "source": [
        "3. Ваш друг решил заработать на День святого Валентина. Он купил 5 упаковок роз по 100 штук в каждой и собрал их в букеты по 7 роз. Создайте новую ячейку и напишите выражение, которое рассчитывает, сколько целых букетов получится у вашего друга."
      ]
    },
    {
      "cell_type": "code",
      "execution_count": 16,
      "id": "dc85a39a-e0f8-4c96-a70b-1825899e18c7",
      "metadata": {
        "id": "dc85a39a-e0f8-4c96-a70b-1825899e18c7"
      },
      "outputs": [
        {
          "name": "stdout",
          "output_type": "stream",
          "text": [
            "71\n"
          ]
        }
      ],
      "source": [
        "print(5*100 // 7)"
      ]
    },
    {
      "cell_type": "markdown",
      "id": "4671d6bb",
      "metadata": {
        "id": "4671d6bb"
      },
      "source": [
        "4. Сколько роз останется у вашего друга после того, как он соберёт последний полный букет? В новой ячейке напишите выражение, которое рассчитывает это число."
      ]
    },
    {
      "cell_type": "code",
      "execution_count": 17,
      "id": "750591a3-ae5d-46fb-8a36-782750e57dd0",
      "metadata": {
        "id": "750591a3-ae5d-46fb-8a36-782750e57dd0"
      },
      "outputs": [
        {
          "name": "stdout",
          "output_type": "stream",
          "text": [
            "3\n"
          ]
        }
      ],
      "source": [
        "print(5*100 % 7)"
      ]
    },
    {
      "cell_type": "markdown",
      "id": "cd1c1a60",
      "metadata": {
        "id": "cd1c1a60"
      },
      "source": [
        "5. Используя функцию print() в новой ячейке, напишите команду, которая выведет на экран ваше имя."
      ]
    },
    {
      "cell_type": "code",
      "execution_count": 18,
      "id": "4527fc52-71a4-4054-b545-73cd9e043a36",
      "metadata": {
        "id": "4527fc52-71a4-4054-b545-73cd9e043a36"
      },
      "outputs": [
        {
          "name": "stdout",
          "output_type": "stream",
          "text": [
            "DANIL\n"
          ]
        }
      ],
      "source": [
        "print(\"DANIL\")"
      ]
    },
    {
      "cell_type": "markdown",
      "id": "3111cf4d",
      "metadata": {
        "id": "3111cf4d"
      },
      "source": [
        "6. Запустите ячейку ниже и посмотрите, что получилось. Добавьте разделитель (аргумент sep), чтобы на выходе получилось, как у Блока в оригинале:"
      ]
    },
    {
      "cell_type": "code",
      "execution_count": 19,
      "id": "43d34899",
      "metadata": {
        "id": "43d34899"
      },
      "outputs": [
        {
          "name": "stdout",
          "output_type": "stream",
          "text": [
            "Ночь, улица, фонарь, аптека\n"
          ]
        }
      ],
      "source": [
        "print('Ночь', 'улица', 'фонарь', 'аптека',sep=\", \")"
      ]
    },
    {
      "cell_type": "markdown",
      "id": "978eb37b",
      "metadata": {
        "id": "978eb37b"
      },
      "source": [
        "7. На бензозаправке вы поняли, что проехав 255 км потратили 19 литров бензина. Дополните команду в следующей ячейке таким образом, чтобы к тексту она выводила ещё и значение расхода:"
      ]
    },
    {
      "cell_type": "code",
      "execution_count": 20,
      "id": "23105d1d",
      "metadata": {
        "id": "23105d1d"
      },
      "outputs": [
        {
          "name": "stdout",
          "output_type": "stream",
          "text": [
            "Расход бензина на 100 км = 13.421052631578947\n"
          ]
        }
      ],
      "source": [
        "print('Расход бензина на 100 км =', 255/19)"
      ]
    }
  ],
  "metadata": {
    "colab": {
      "collapsed_sections": [],
      "provenance": []
    },
    "kernelspec": {
      "display_name": "Python 3",
      "language": "python",
      "name": "python3"
    },
    "language_info": {
      "codemirror_mode": {
        "name": "ipython",
        "version": 3
      },
      "file_extension": ".py",
      "mimetype": "text/x-python",
      "name": "python",
      "nbconvert_exporter": "python",
      "pygments_lexer": "ipython3",
      "version": "3.11.5"
    }
  },
  "nbformat": 4,
  "nbformat_minor": 5
}
