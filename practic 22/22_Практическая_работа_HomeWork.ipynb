{
  "cells": [
    {
      "cell_type": "markdown",
      "metadata": {
        "id": "Ce0YMaG7Q0-o"
      },
      "source": [
        "## Практическая работа"
      ]
    },
    {
      "cell_type": "markdown",
      "metadata": {
        "id": "xkOj0F_FRCJm"
      },
      "source": [
        "В этой практической работе четыре обязательные задачи.\n",
        "\n",
        "*Обязательные задачи* нужно сделать для того, чтобы проверить, что вы действительно усвоили материал модуля. Сдайте их на проверку.\n",
        "\n",
        "Удачи!"
      ]
    },
    {
      "cell_type": "markdown",
      "metadata": {
        "id": "Yt4v4ba7RWA3"
      },
      "source": [
        "Цели практической работы: \n",
        "\n",
        "\n",
        "1.   Потренироваться в обучении моделей деревьев решений.\n",
        "2.   Потренироваться в обучении моделей случайного леса. \n",
        "3.   Научиться оценивать качество моделей с помошью Accuracy и confusion matrix.\n",
        "4.   Научиться увеличивать качество моделей с помощью тюнинга параметров.\n",
        "\n",
        "\n"
      ]
    },
    {
      "cell_type": "markdown",
      "metadata": {
        "id": "nPwfq2fISXIk"
      },
      "source": [
        "Что оценивается:\n",
        "\n",
        "*   Все пункты и критерия приёмки задания выполнены.\n",
        "*   Удаление колонок по результатам feature_importance и определения типов производится с помощью кода, а не перечислением их вручную.\n",
        "\n",
        "\n"
      ]
    },
    {
      "cell_type": "markdown",
      "metadata": {
        "id": "50fXtdd_R7c5"
      },
      "source": [
        "## Обязательные задачи"
      ]
    },
    {
      "cell_type": "markdown",
      "metadata": {
        "id": "iy6tzmQfsqgr"
      },
      "source": [
        "### Описание датасета:\n",
        "- `id`: идентификатор записи;\n",
        "- `is_manufacturer_name`: признак производителя автомобиля;\n",
        "\n",
        "- `region_*`: регион;\n",
        "- `x0_*`: тип топлива;\n",
        "- `manufacturer_*`: производитель;\n",
        "- `short_model_*`: сокращённая модель автомобиля;\n",
        "- `title_status_*`: статус;\n",
        "- `transmission_*`: коробка передач;\n",
        "- `state_*`: штат;\n",
        "- `age_category_*`: возрастная категория автомобиля;\n",
        "\n",
        "- `std_scaled_odometer`: количество пройденных миль (после стандартизации);\n",
        "- `year_std`: год выпуска (после стандартизации);\n",
        "- `lat_std`: широта (после стандартизации);\n",
        "- `long_std`: долгота (после стандартизации);\n",
        "- `odometer/price_std`: отношение стоимости к пробегу автомобиля (после стандартизации);\n",
        "- `desc_len_std`: количество символов в тексте объявления о продаже (после стандартизации);\n",
        "- `model_in_desc_std`: количество наименований модели автомобиля в тексте объявления о продаже (после стандартизации);\n",
        "- `model_len_std`: длина наименования автомобиля (после стандартизации);\n",
        "- `model_word_count_std`: количество слов в наименовании автомобиля (после стандартизации);\n",
        "- `month_std`: номер месяца размещения объявления о продаже автомобиля (после стандартизации);\n",
        "- `dayofweek_std`: день недели размещения объявления о продаже автомобиля (после стандартизации);\n",
        "- `diff_years_std`: количество лет между годом производства автомобиля и годом размещения объявления о продаже автомобиля (после стандартизации);\n",
        "\n",
        "- `price`: стоимость;\n",
        "- `price_category`: категория цены."
      ]
    },
    {
      "cell_type": "markdown",
      "metadata": {
        "id": "rGEsBMqETF2f"
      },
      "source": [
        "0. *Подготовка базовой модели*\n",
        "\n",
        "Обучите простую модель классификации с помощью DecisionTreeClassifier на данных из датасета vehicles_dataset_prepared.csv. Для этого сделайте следующие шаги:\n",
        "\n",
        "1. Обучите модель дерева решений с зафиксированным random_state на тренировочной выборке.\n",
        "2. Сделайте предикт на тестовой выборке.\n",
        "3. Замерьте точность на тестовой выборке и выведите матрицу ошибок. \n",
        "4. Удалите фичи с нулевыми весами по feature_importance из тренировочной и тестовой выборок.\n",
        "5. Заново обучите модель и измерьте качество."
      ]
    },
    {
      "cell_type": "code",
      "execution_count": 5,
      "metadata": {
        "id": "pylwtir8Qzrk"
      },
      "outputs": [],
      "source": [
        "import pandas as pd\n",
        "import numpy as np\n",
        "from sklearn.tree import DecisionTreeClassifier\n",
        "from sklearn.ensemble import RandomForestClassifier\n",
        "\n",
        "from sklearn.model_selection import train_test_split \n",
        "from sklearn.metrics import accuracy_score, confusion_matrix "
      ]
    },
    {
      "cell_type": "code",
      "execution_count": 13,
      "metadata": {
        "id": "IOdbt33LS4RP"
      },
      "outputs": [],
      "source": [
        "df = pd.read_csv('vehicles_dataset_prepared.csv')\n",
        "\n",
        "df_prepared = df.copy()\n",
        "df_prepared = df_prepared.drop(['price', 'odometer/price_std'], axis=1)\n",
        "x = df_prepared.drop(['price_category'], axis=1)\n",
        "y = df_prepared['price_category']\n",
        "\n",
        "x_train, x_test, y_train, y_test = train_test_split(x, y, test_size=0.3, random_state=42)"
      ]
    },
    {
      "cell_type": "code",
      "execution_count": 16,
      "metadata": {
        "id": "zDdkaaRZgIMN"
      },
      "outputs": [
        {
          "name": "stdout",
          "output_type": "stream",
          "text": [
            "Точность на тестовой выборке = 0.6742896742896742\n",
            "[[740  50 207]\n",
            " [ 46 682 225]\n",
            " [186 226 524]]\n",
            "Точность на новой тестовой выборке = 0.6781011781011781\n",
            "[[742  55 200]\n",
            " [ 45 684 224]\n",
            " [183 222 531]]\n"
          ]
        }
      ],
      "source": [
        "# Ваш код здесь\n",
        "# Первоначальная модель\n",
        "clf = DecisionTreeClassifier()\n",
        "clf.fit(x_train, y_train)\n",
        "predicted_train = clf.predict(x_train)\n",
        "predicted_test = clf.predict(x_test)\n",
        "print(f\"Точность на тестовой выборке = {accuracy_score(y_test, predicted_test)}\")\n",
        "print(confusion_matrix(y_test, predicted_test))\n",
        "# Удаляем нулевые фичи\n",
        "f_imp_list = sorted(list(zip(x_train.columns, clf.feature_importances_ )), reverse=True, key=lambda x: x[1])\n",
        "\n",
        "f_imp_list = [i[0] for i in f_imp_list if i[1] == 0]\n",
        "df_deleted_zeros = df_prepared.copy()\n",
        "df_deleted_zeros = df_deleted_zeros.drop(f_imp_list, axis=1)\n",
        "x_new = df_deleted_zeros.drop(['price_category'], axis=1)\n",
        "y_new = df_deleted_zeros.price_category\n",
        "x_new_train, x_new_test, y_new_train, y_new_test = train_test_split(x_new, y_new, test_size=0.3, random_state=42)\n",
        "clf.fit(x_new_train, y_new_train)\n",
        "predicted_new_train = clf.predict(x_new_train)\n",
        "predicted_new_test = clf.predict(x_new_test)\n",
        "print(f\"Точность на новой тестовой выборке = {accuracy_score(y_new_test, predicted_new_test)}\")\n",
        "print(confusion_matrix(y_new_test, predicted_new_test))\n"
      ]
    },
    {
      "cell_type": "markdown",
      "metadata": {
        "id": "SgN87pCNe9Sp"
      },
      "source": [
        "1. *Подготовка модели случайного леса*\n",
        "\n",
        "Обучите простую модель классификации с помощью RandomForestClassifier. Для этого сделайте следующие шаги:\n",
        "1. На новых урезанных семплах тренировочной и тестовой выборок обучите модель случайного леса с зафиксированным random_state=50. \n",
        "\n",
        "2. Сделайте предикт и посчитайте точность модели и матрицу ошибок. Сравните с предыдущей моделью дерева решений. Есть ли случаи, когда модель из пункта 1 отрабатывает лучше, чем модель случайного леса?"
      ]
    },
    {
      "cell_type": "code",
      "execution_count": 114,
      "metadata": {
        "id": "V-8MUDTbfxdS"
      },
      "outputs": [
        {
          "name": "stdout",
          "output_type": "stream",
          "text": [
            "Точноть случайного леса на тестовых данных = 0.7546777546777547\n"
          ]
        }
      ],
      "source": [
        "# Ваш код здесь \n",
        "rf_clf = RandomForestClassifier()\n",
        "x_rf_train, x_rf_test, y_rf_train, y_rf_test = train_test_split(x_new, y_new, test_size=0.3, random_state=50)\n",
        "rf_clf.fit(x_rf_train, y_rf_train)\n",
        "\n",
        "predicted_rf_test = rf_clf.predict(x_rf_test)\n",
        "print(f\"Точноть случайного леса на тестовых данных = {accuracy_score(y_rf_test, predicted_rf_test)}\")"
      ]
    },
    {
      "cell_type": "markdown",
      "metadata": {
        "id": "fwApI_vhkQE6"
      },
      "source": [
        "2. *Тюнинг модели случайного леса*\n",
        "\n",
        "Увеличьте точность модели на тестовом датасете RandomForestClassifier c помощью тюнинга параметров. \n",
        "\n",
        "Параметры, которые можно настраивать для увеличения точности:\n",
        "\n",
        "```\n",
        "    `bootstrap'\n",
        "    'max_depth'\n",
        "    'max_features'\n",
        "    'min_samples_leaf'\n",
        "    'min_samples_split'\n",
        "    'random_state'\n",
        "    'n_estimators'\n",
        "\n",
        "```\n",
        "\n",
        "\n",
        "\n",
        "С описанием каждого из параметров можно ознакомиться в документации:\n",
        "\n",
        "\n",
        "https://scikit-learn.org/stable/modules/generated/sklearn.ensemble.RandomForestClassifier.html\n",
        "\n",
        "Задание засчитывается, если значение метрики строго выше 0,76 на тестовом датасете."
      ]
    },
    {
      "cell_type": "code",
      "execution_count": 128,
      "metadata": {},
      "outputs": [
        {
          "name": "stdout",
          "output_type": "stream",
          "text": [
            "Fitting 5 folds for each of 20 candidates, totalling 100 fits\n"
          ]
        },
        {
          "data": {
            "text/html": [
              "<style>#sk-container-id-3 {color: black;}#sk-container-id-3 pre{padding: 0;}#sk-container-id-3 div.sk-toggleable {background-color: white;}#sk-container-id-3 label.sk-toggleable__label {cursor: pointer;display: block;width: 100%;margin-bottom: 0;padding: 0.3em;box-sizing: border-box;text-align: center;}#sk-container-id-3 label.sk-toggleable__label-arrow:before {content: \"▸\";float: left;margin-right: 0.25em;color: #696969;}#sk-container-id-3 label.sk-toggleable__label-arrow:hover:before {color: black;}#sk-container-id-3 div.sk-estimator:hover label.sk-toggleable__label-arrow:before {color: black;}#sk-container-id-3 div.sk-toggleable__content {max-height: 0;max-width: 0;overflow: hidden;text-align: left;background-color: #f0f8ff;}#sk-container-id-3 div.sk-toggleable__content pre {margin: 0.2em;color: black;border-radius: 0.25em;background-color: #f0f8ff;}#sk-container-id-3 input.sk-toggleable__control:checked~div.sk-toggleable__content {max-height: 200px;max-width: 100%;overflow: auto;}#sk-container-id-3 input.sk-toggleable__control:checked~label.sk-toggleable__label-arrow:before {content: \"▾\";}#sk-container-id-3 div.sk-estimator input.sk-toggleable__control:checked~label.sk-toggleable__label {background-color: #d4ebff;}#sk-container-id-3 div.sk-label input.sk-toggleable__control:checked~label.sk-toggleable__label {background-color: #d4ebff;}#sk-container-id-3 input.sk-hidden--visually {border: 0;clip: rect(1px 1px 1px 1px);clip: rect(1px, 1px, 1px, 1px);height: 1px;margin: -1px;overflow: hidden;padding: 0;position: absolute;width: 1px;}#sk-container-id-3 div.sk-estimator {font-family: monospace;background-color: #f0f8ff;border: 1px dotted black;border-radius: 0.25em;box-sizing: border-box;margin-bottom: 0.5em;}#sk-container-id-3 div.sk-estimator:hover {background-color: #d4ebff;}#sk-container-id-3 div.sk-parallel-item::after {content: \"\";width: 100%;border-bottom: 1px solid gray;flex-grow: 1;}#sk-container-id-3 div.sk-label:hover label.sk-toggleable__label {background-color: #d4ebff;}#sk-container-id-3 div.sk-serial::before {content: \"\";position: absolute;border-left: 1px solid gray;box-sizing: border-box;top: 0;bottom: 0;left: 50%;z-index: 0;}#sk-container-id-3 div.sk-serial {display: flex;flex-direction: column;align-items: center;background-color: white;padding-right: 0.2em;padding-left: 0.2em;position: relative;}#sk-container-id-3 div.sk-item {position: relative;z-index: 1;}#sk-container-id-3 div.sk-parallel {display: flex;align-items: stretch;justify-content: center;background-color: white;position: relative;}#sk-container-id-3 div.sk-item::before, #sk-container-id-3 div.sk-parallel-item::before {content: \"\";position: absolute;border-left: 1px solid gray;box-sizing: border-box;top: 0;bottom: 0;left: 50%;z-index: -1;}#sk-container-id-3 div.sk-parallel-item {display: flex;flex-direction: column;z-index: 1;position: relative;background-color: white;}#sk-container-id-3 div.sk-parallel-item:first-child::after {align-self: flex-end;width: 50%;}#sk-container-id-3 div.sk-parallel-item:last-child::after {align-self: flex-start;width: 50%;}#sk-container-id-3 div.sk-parallel-item:only-child::after {width: 0;}#sk-container-id-3 div.sk-dashed-wrapped {border: 1px dashed gray;margin: 0 0.4em 0.5em 0.4em;box-sizing: border-box;padding-bottom: 0.4em;background-color: white;}#sk-container-id-3 div.sk-label label {font-family: monospace;font-weight: bold;display: inline-block;line-height: 1.2em;}#sk-container-id-3 div.sk-label-container {text-align: center;}#sk-container-id-3 div.sk-container {/* jupyter's `normalize.less` sets `[hidden] { display: none; }` but bootstrap.min.css set `[hidden] { display: none !important; }` so we also need the `!important` here to be able to override the default hidden behavior on the sphinx rendered scikit-learn.org. See: https://github.com/scikit-learn/scikit-learn/issues/21755 */display: inline-block !important;position: relative;}#sk-container-id-3 div.sk-text-repr-fallback {display: none;}</style><div id=\"sk-container-id-3\" class=\"sk-top-container\"><div class=\"sk-text-repr-fallback\"><pre>RandomizedSearchCV(estimator=RandomForestClassifier(), n_iter=20, n_jobs=-1,\n",
              "                   param_distributions={&#x27;max_features&#x27;: [&#x27;sqrt&#x27;, &#x27;log2&#x27;],\n",
              "                                        &#x27;min_samples_leaf&#x27;: [1, 2, 3, 4, 5, 6,\n",
              "                                                             7, 8, 9],\n",
              "                                        &#x27;n_estimators&#x27;: [100, 200, 300, 400,\n",
              "                                                         500]},\n",
              "                   scoring=&#x27;accuracy&#x27;, verbose=1)</pre><b>In a Jupyter environment, please rerun this cell to show the HTML representation or trust the notebook. <br />On GitHub, the HTML representation is unable to render, please try loading this page with nbviewer.org.</b></div><div class=\"sk-container\" hidden><div class=\"sk-item sk-dashed-wrapped\"><div class=\"sk-label-container\"><div class=\"sk-label sk-toggleable\"><input class=\"sk-toggleable__control sk-hidden--visually\" id=\"sk-estimator-id-3\" type=\"checkbox\" ><label for=\"sk-estimator-id-3\" class=\"sk-toggleable__label sk-toggleable__label-arrow\">RandomizedSearchCV</label><div class=\"sk-toggleable__content\"><pre>RandomizedSearchCV(estimator=RandomForestClassifier(), n_iter=20, n_jobs=-1,\n",
              "                   param_distributions={&#x27;max_features&#x27;: [&#x27;sqrt&#x27;, &#x27;log2&#x27;],\n",
              "                                        &#x27;min_samples_leaf&#x27;: [1, 2, 3, 4, 5, 6,\n",
              "                                                             7, 8, 9],\n",
              "                                        &#x27;n_estimators&#x27;: [100, 200, 300, 400,\n",
              "                                                         500]},\n",
              "                   scoring=&#x27;accuracy&#x27;, verbose=1)</pre></div></div></div><div class=\"sk-parallel\"><div class=\"sk-parallel-item\"><div class=\"sk-item\"><div class=\"sk-label-container\"><div class=\"sk-label sk-toggleable\"><input class=\"sk-toggleable__control sk-hidden--visually\" id=\"sk-estimator-id-4\" type=\"checkbox\" ><label for=\"sk-estimator-id-4\" class=\"sk-toggleable__label sk-toggleable__label-arrow\">estimator: RandomForestClassifier</label><div class=\"sk-toggleable__content\"><pre>RandomForestClassifier()</pre></div></div></div><div class=\"sk-serial\"><div class=\"sk-item\"><div class=\"sk-estimator sk-toggleable\"><input class=\"sk-toggleable__control sk-hidden--visually\" id=\"sk-estimator-id-5\" type=\"checkbox\" ><label for=\"sk-estimator-id-5\" class=\"sk-toggleable__label sk-toggleable__label-arrow\">RandomForestClassifier</label><div class=\"sk-toggleable__content\"><pre>RandomForestClassifier()</pre></div></div></div></div></div></div></div></div></div></div>"
            ],
            "text/plain": [
              "RandomizedSearchCV(estimator=RandomForestClassifier(), n_iter=20, n_jobs=-1,\n",
              "                   param_distributions={'max_features': ['sqrt', 'log2'],\n",
              "                                        'min_samples_leaf': [1, 2, 3, 4, 5, 6,\n",
              "                                                             7, 8, 9],\n",
              "                                        'n_estimators': [100, 200, 300, 400,\n",
              "                                                         500]},\n",
              "                   scoring='accuracy', verbose=1)"
            ]
          },
          "execution_count": 128,
          "metadata": {},
          "output_type": "execute_result"
        }
      ],
      "source": [
        "#from sklearn.model_selection import GridSearchCV\n",
        "from sklearn.model_selection import RandomizedSearchCV\n",
        "rf_clf = RandomForestClassifier()\n",
        "\n",
        "# Инициализиурем сетку для переборов параметров\n",
        "param_grid = {\n",
        "    'n_estimators': list(range(100, 501, 100)),\n",
        "   'max_features': ['sqrt', 'log2'],\n",
        "   'min_samples_leaf': list(range(1, 10))\n",
        "}\n",
        "\n",
        "randomized_search_rf  = RandomizedSearchCV(\n",
        "   estimator=rf_clf,\n",
        "   n_iter= 20,\n",
        "   param_distributions=param_grid,\n",
        "   scoring='accuracy',\n",
        "   verbose=1,\n",
        "   n_jobs=-1\n",
        ")\n",
        "randomized_search_rf .fit(x_rf_train, y_rf_train)"
      ]
    },
    {
      "cell_type": "code",
      "execution_count": 131,
      "metadata": {
        "id": "idrArCdef3nr"
      },
      "outputs": [
        {
          "name": "stdout",
          "output_type": "stream",
          "text": [
            "{'n_estimators': 500, 'min_samples_leaf': 1, 'max_features': 'log2'}\n"
          ]
        },
        {
          "data": {
            "text/plain": [
              "0.7668052668052668"
            ]
          },
          "execution_count": 131,
          "metadata": {},
          "output_type": "execute_result"
        }
      ],
      "source": [
        "# Ваш код здесь \n",
        "best_params = randomized_search_rf.best_params_ # {'n_estimators': 500, 'min_samples_leaf': 1, 'max_features': 'log2'}\n",
        "print(best_params)\n",
        "rf_clf = RandomForestClassifier(n_estimators=500, min_samples_leaf=1, max_features='log2')\n",
        "rf_clf.fit(x_rf_train, y_rf_train)\n",
        "pred = rf_clf.predict(x_rf_test )\n",
        "accuracy_score(y_rf_test, pred)"
      ]
    },
    {
      "cell_type": "markdown",
      "metadata": {
        "id": "IZaDD5F9h9iu"
      },
      "source": [
        "3. *Анализ влияния фичей на модель*\n",
        "\n",
        "Во всех задачах до вы работали над подготовленным датасетом, где фичи были заранее извлечены из текстовых переменных, отскейлены и пропущены через One Hot Encoder. Сравним, какой была бы предсказательная способность модели, если бы мы использовали только сырые данные из исходного датасета. Для этого проделайте следующие шаги:\n",
        "\n",
        "1. Загрузите датасет `vehicles_dataset_old.csv`.\n",
        "2. Удалите из него переменную `price` и все строковые колонки. Дерево решений и случайный лес не умеют самостоятельно работать со строковыми значениями.\n",
        "3. Сформируйте x_train и x_test так же, как они были сформированы в предыдущих заданиях.\n",
        "4. Обучите свою лучшую модель случайного леса на новых данных и замерьте качество. Убедитесь, что оно ухудшилось.\n",
        "5. Найдите три фичи, которые лучшим образом повлияли на предсказательную способность модели."
      ]
    },
    {
      "cell_type": "code",
      "execution_count": 42,
      "metadata": {
        "colab": {
          "base_uri": "https://localhost:8080/",
          "height": 530
        },
        "id": "ZU1RX06Fh-FM",
        "outputId": "b6e57d99-ced6-453f-b59a-1da6b37d9f67"
      },
      "outputs": [
        {
          "name": "stdout",
          "output_type": "stream",
          "text": [
            "0.6334026334026334\n",
            "Точность стала хуже :(\n",
            "[('odometer', 0.2677762894441347), ('year', 0.23357334685321735), ('id', 0.16836437585674632)]\n"
          ]
        }
      ],
      "source": [
        "df_old = pd.read_csv('vehicles_dataset_old.csv')\n",
        "#display(df_old.head())\n",
        "\n",
        "# Ваш код здесь \n",
        "df_new = df_old.drop(['price'], axis=1)\n",
        "y_old = df_new.price_category\n",
        "\n",
        "df_new = df_new.drop(df_new.dtypes[df_new.dtypes == object].index,axis=1)\n",
        "x_old = df_new\n",
        "x_old_train, x_old_test, y_old_train, y_old_test = train_test_split(x_old, y_old, test_size=0.3, random_state=42)\n",
        "rf_clf_old = RandomForestClassifier()\n",
        "rf_clf_old.fit(x_old_train,  y_old_train)\n",
        "pred = rf_clf_old.predict(x_old_test)\n",
        "print(accuracy_score(y_old_test, pred))\n",
        "print(\"Точность стала хуже :(\")\n",
        "important = sorted([(name, score) for name, score in zip(x_old_train.columns, rf_clf_old.feature_importances_)], key=lambda x: x[1], reverse=True)\n",
        "print(important[:3])"
      ]
    }
  ],
  "metadata": {
    "colab": {
      "name": "Модуль 22. Практика.ipynb",
      "provenance": []
    },
    "kernelspec": {
      "display_name": "Python 3",
      "name": "python3"
    },
    "language_info": {
      "codemirror_mode": {
        "name": "ipython",
        "version": 3
      },
      "file_extension": ".py",
      "mimetype": "text/x-python",
      "name": "python",
      "nbconvert_exporter": "python",
      "pygments_lexer": "ipython3",
      "version": "3.11.5"
    }
  },
  "nbformat": 4,
  "nbformat_minor": 0
}
