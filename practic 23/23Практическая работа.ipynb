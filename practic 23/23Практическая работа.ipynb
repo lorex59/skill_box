{
  "cells": [
    {
      "cell_type": "markdown",
      "metadata": {
        "id": "4tc7YC6O8Ev1"
      },
      "source": [
        "## Практическая работа"
      ]
    },
    {
      "cell_type": "markdown",
      "metadata": {
        "id": "vSt7qQM58QEB"
      },
      "source": [
        "В этой практической работе пять обязательных задач.\n",
        "\n",
        "*Обязательные задачи* помогут проверить, что вы действительно усвоили материал модуля. Сдайте их на проверку.\n",
        "\n",
        "Удачи!"
      ]
    },
    {
      "cell_type": "markdown",
      "metadata": {
        "id": "WwzP6BdQ8jbE"
      },
      "source": [
        "Цели практической работы: \n",
        "\n",
        "\n",
        "1.   Потренироваться в обучении модели линейной регрессии.\n",
        "2.   Потренироваться в обучении модели логистической регрессии. \n",
        "3.   Потренироваться в обучении модели многослойного персептрона.\n",
        "\n",
        "\n",
        "\n"
      ]
    },
    {
      "cell_type": "markdown",
      "metadata": {
        "id": "fGPUx8Nh8l0F"
      },
      "source": [
        "Что оценивается:\n",
        "\n",
        "*   Все пункты и критерии приёмки по каждому заданию выполнены.\n",
        "*   Код оформлен и работает корректно.\n",
        "\n",
        "\n",
        "\n"
      ]
    },
    {
      "cell_type": "markdown",
      "metadata": {
        "id": "IP-cDDXr-WD0"
      },
      "source": [
        "Как отправить работу на проверку:\n",
        "\n",
        "Сдайте практическую работу этого модуля через систему контроля версий Git сервиса Skillbox GitLab. После загрузки работы на проверку напишите об этом в личном кабинете своему куратору."
      ]
    },
    {
      "cell_type": "markdown",
      "metadata": {
        "id": "dH3j5hM1qCUw"
      },
      "source": [
        "В этом задании вам нужно построить модель классификации, определяющую категорию цены/цену подержанного автомобиля в зависимости от характеристик транспортного средства. \n",
        "\n",
        "Мы будем использовать датасет из коллекции подержанных автомобилей, выставленных на продажу в Соединенных Штатах. Он уже подготовлен, без выбросов и с категориальными фичами, преобразованными с помощью one hot encoding, и количественными фичами, стандартизированными с помощью скейлеров.\n"
      ]
    },
    {
      "cell_type": "markdown",
      "metadata": {
        "id": "jKgw4zyS8uOJ"
      },
      "source": [
        "### Описание датасета:\n",
        "- `id`: идентификатор записи;\n",
        "- `is_manufacturer_name`: признак производителя автомобиля;\n",
        "\n",
        "- `region_*`: регион;\n",
        "- `x0_*`: тип топлива;\n",
        "- `manufacturer_*`: производитель;\n",
        "- `short_model_*`: сокращённая модель автомобиля;\n",
        "- `title_status_*`: статус;\n",
        "- `transmission_*`: коробка передач;\n",
        "- `state_*`: штат;\n",
        "- `age_category_*`: возрастная категория автомобиля;\n",
        "\n",
        "- `std_scaled_odometer`: количество пройденных миль (после стандартизации);\n",
        "- `year_std`: год выпуска (после стандартизации);\n",
        "- `lat_std`: широта (после стандартизации);\n",
        "- `long_std`: долгота (после стандартизации);\n",
        "- `odometer/price_std`: отношение стоимости к пробегу автомобиля (после стандартизации);\n",
        "- `desc_len_std`: количество символов в тексте объявления о продаже (после стандартизации);\n",
        "- `model_in_desc_std`: количество наименований модели автомобиля в тексте объявления о продаже (после стандартизации);\n",
        "- `model_len_std`: длина наименования автомобиля (после стандартизации);\n",
        "- `model_word_count_std`: количество слов в наименовании автомобиля (после стандартизации);\n",
        "- `month_std`: номер месяца размещения объявления о продаже автомобиля (после стандартизации);\n",
        "- `dayofweek_std`: день недели размещения объявления о продаже автомобиля (после стандартизации);\n",
        "- `diff_years_std`: количество лет между годом производства автомобиля и годом размещения объявления о продаже автомобиля (после стандартизации);\n",
        "\n",
        "- `price`: стоимость;\n",
        "- `price_category`: категория цены."
      ]
    },
    {
      "cell_type": "markdown",
      "metadata": {
        "id": "f8cwJq0l8oyM"
      },
      "source": [
        "## Обязательные задачи"
      ]
    },
    {
      "cell_type": "code",
      "execution_count": 2,
      "metadata": {
        "id": "k-oAmtZi9R8U"
      },
      "outputs": [],
      "source": [
        "import matplotlib.pyplot as plt\n",
        "import pandas as pd\n",
        "\n",
        "from sklearn.linear_model import LogisticRegression, LinearRegression\n",
        "from sklearn.metrics import accuracy_score, confusion_matrix, mean_absolute_error, r2_score\n",
        "from sklearn.model_selection import train_test_split \n",
        "from sklearn.neural_network import MLPClassifier"
      ]
    },
    {
      "cell_type": "code",
      "execution_count": 3,
      "metadata": {
        "colab": {
          "base_uri": "https://localhost:8080/",
          "height": 299
        },
        "id": "a4gi-XV1Jkwc",
        "outputId": "3ba30067-9c82-4b3b-aec1-80b22491ba33"
      },
      "outputs": [
        {
          "name": "stdout",
          "output_type": "stream",
          "text": [
            "(9619, 1463)\n"
          ]
        },
        {
          "data": {
            "text/html": [
              "<div>\n",
              "<style scoped>\n",
              "    .dataframe tbody tr th:only-of-type {\n",
              "        vertical-align: middle;\n",
              "    }\n",
              "\n",
              "    .dataframe tbody tr th {\n",
              "        vertical-align: top;\n",
              "    }\n",
              "\n",
              "    .dataframe thead th {\n",
              "        text-align: right;\n",
              "    }\n",
              "</style>\n",
              "<table border=\"1\" class=\"dataframe\">\n",
              "  <thead>\n",
              "    <tr style=\"text-align: right;\">\n",
              "      <th></th>\n",
              "      <th>id</th>\n",
              "      <th>price</th>\n",
              "      <th>price_category</th>\n",
              "      <th>is_audi</th>\n",
              "      <th>is_ford</th>\n",
              "      <th>is_chevrolet</th>\n",
              "      <th>is_toyota</th>\n",
              "      <th>x0_diesel</th>\n",
              "      <th>x0_electric</th>\n",
              "      <th>x0_gas</th>\n",
              "      <th>...</th>\n",
              "      <th>long_std</th>\n",
              "      <th>year_std</th>\n",
              "      <th>odometer/price_std</th>\n",
              "      <th>desc_len_std</th>\n",
              "      <th>model_in_desc_std</th>\n",
              "      <th>model_len_std</th>\n",
              "      <th>model_word_count_std</th>\n",
              "      <th>month_std</th>\n",
              "      <th>dayofweek_std</th>\n",
              "      <th>diff_years_std</th>\n",
              "    </tr>\n",
              "  </thead>\n",
              "  <tbody>\n",
              "    <tr>\n",
              "      <th>0</th>\n",
              "      <td>7308295377</td>\n",
              "      <td>54990</td>\n",
              "      <td>high</td>\n",
              "      <td>0</td>\n",
              "      <td>0</td>\n",
              "      <td>0</td>\n",
              "      <td>0</td>\n",
              "      <td>1.0</td>\n",
              "      <td>0.0</td>\n",
              "      <td>0.0</td>\n",
              "      <td>...</td>\n",
              "      <td>0.484245</td>\n",
              "      <td>1.322394</td>\n",
              "      <td>-0.510784</td>\n",
              "      <td>0.632075</td>\n",
              "      <td>-0.155788</td>\n",
              "      <td>1.163032</td>\n",
              "      <td>1.910669</td>\n",
              "      <td>-0.615846</td>\n",
              "      <td>1.120284</td>\n",
              "      <td>-1.322394</td>\n",
              "    </tr>\n",
              "    <tr>\n",
              "      <th>1</th>\n",
              "      <td>7316380095</td>\n",
              "      <td>16942</td>\n",
              "      <td>medium</td>\n",
              "      <td>0</td>\n",
              "      <td>1</td>\n",
              "      <td>0</td>\n",
              "      <td>0</td>\n",
              "      <td>0.0</td>\n",
              "      <td>0.0</td>\n",
              "      <td>0.0</td>\n",
              "      <td>...</td>\n",
              "      <td>1.110800</td>\n",
              "      <td>0.695973</td>\n",
              "      <td>-0.402947</td>\n",
              "      <td>-0.646781</td>\n",
              "      <td>-0.155788</td>\n",
              "      <td>0.932087</td>\n",
              "      <td>1.235799</td>\n",
              "      <td>1.623784</td>\n",
              "      <td>-1.374972</td>\n",
              "      <td>-0.695973</td>\n",
              "    </tr>\n",
              "    <tr>\n",
              "      <th>2</th>\n",
              "      <td>7313733749</td>\n",
              "      <td>35590</td>\n",
              "      <td>high</td>\n",
              "      <td>0</td>\n",
              "      <td>0</td>\n",
              "      <td>0</td>\n",
              "      <td>0</td>\n",
              "      <td>0.0</td>\n",
              "      <td>0.0</td>\n",
              "      <td>1.0</td>\n",
              "      <td>...</td>\n",
              "      <td>0.531185</td>\n",
              "      <td>0.852578</td>\n",
              "      <td>-0.514480</td>\n",
              "      <td>0.560744</td>\n",
              "      <td>-0.155788</td>\n",
              "      <td>0.470197</td>\n",
              "      <td>0.560930</td>\n",
              "      <td>-0.615846</td>\n",
              "      <td>-0.376870</td>\n",
              "      <td>-0.852578</td>\n",
              "    </tr>\n",
              "    <tr>\n",
              "      <th>3</th>\n",
              "      <td>7308210929</td>\n",
              "      <td>14500</td>\n",
              "      <td>medium</td>\n",
              "      <td>0</td>\n",
              "      <td>0</td>\n",
              "      <td>0</td>\n",
              "      <td>1</td>\n",
              "      <td>0.0</td>\n",
              "      <td>0.0</td>\n",
              "      <td>1.0</td>\n",
              "      <td>...</td>\n",
              "      <td>0.853562</td>\n",
              "      <td>0.226157</td>\n",
              "      <td>-0.241883</td>\n",
              "      <td>0.180435</td>\n",
              "      <td>-0.155788</td>\n",
              "      <td>-0.915473</td>\n",
              "      <td>-0.788810</td>\n",
              "      <td>-0.615846</td>\n",
              "      <td>1.120284</td>\n",
              "      <td>-0.226157</td>\n",
              "    </tr>\n",
              "    <tr>\n",
              "      <th>4</th>\n",
              "      <td>7303797340</td>\n",
              "      <td>14590</td>\n",
              "      <td>medium</td>\n",
              "      <td>0</td>\n",
              "      <td>0</td>\n",
              "      <td>0</td>\n",
              "      <td>0</td>\n",
              "      <td>0.0</td>\n",
              "      <td>0.0</td>\n",
              "      <td>0.0</td>\n",
              "      <td>...</td>\n",
              "      <td>0.557607</td>\n",
              "      <td>0.069552</td>\n",
              "      <td>-0.333074</td>\n",
              "      <td>0.766366</td>\n",
              "      <td>-0.155788</td>\n",
              "      <td>1.163032</td>\n",
              "      <td>1.910669</td>\n",
              "      <td>-0.615846</td>\n",
              "      <td>0.122182</td>\n",
              "      <td>-0.069552</td>\n",
              "    </tr>\n",
              "  </tbody>\n",
              "</table>\n",
              "<p>5 rows × 1463 columns</p>\n",
              "</div>"
            ],
            "text/plain": [
              "           id  price price_category  is_audi  is_ford  is_chevrolet  \\\n",
              "0  7308295377  54990           high        0        0             0   \n",
              "1  7316380095  16942         medium        0        1             0   \n",
              "2  7313733749  35590           high        0        0             0   \n",
              "3  7308210929  14500         medium        0        0             0   \n",
              "4  7303797340  14590         medium        0        0             0   \n",
              "\n",
              "   is_toyota  x0_diesel  x0_electric  x0_gas  ...  long_std  year_std  \\\n",
              "0          0        1.0          0.0     0.0  ...  0.484245  1.322394   \n",
              "1          0        0.0          0.0     0.0  ...  1.110800  0.695973   \n",
              "2          0        0.0          0.0     1.0  ...  0.531185  0.852578   \n",
              "3          1        0.0          0.0     1.0  ...  0.853562  0.226157   \n",
              "4          0        0.0          0.0     0.0  ...  0.557607  0.069552   \n",
              "\n",
              "   odometer/price_std  desc_len_std  model_in_desc_std  model_len_std  \\\n",
              "0           -0.510784      0.632075          -0.155788       1.163032   \n",
              "1           -0.402947     -0.646781          -0.155788       0.932087   \n",
              "2           -0.514480      0.560744          -0.155788       0.470197   \n",
              "3           -0.241883      0.180435          -0.155788      -0.915473   \n",
              "4           -0.333074      0.766366          -0.155788       1.163032   \n",
              "\n",
              "   model_word_count_std  month_std  dayofweek_std  diff_years_std  \n",
              "0              1.910669  -0.615846       1.120284       -1.322394  \n",
              "1              1.235799   1.623784      -1.374972       -0.695973  \n",
              "2              0.560930  -0.615846      -0.376870       -0.852578  \n",
              "3             -0.788810  -0.615846       1.120284       -0.226157  \n",
              "4              1.910669  -0.615846       0.122182       -0.069552  \n",
              "\n",
              "[5 rows x 1463 columns]"
            ]
          },
          "execution_count": 3,
          "metadata": {},
          "output_type": "execute_result"
        }
      ],
      "source": [
        "df = pd.read_csv('vehicles_dataset_prepared.csv')\n",
        "print(df.shape)\n",
        "df.head()"
      ]
    },
    {
      "cell_type": "markdown",
      "metadata": {
        "id": "VMmY9Xa-JdRj"
      },
      "source": [
        "**Задача 0. Линейная регрессия**\n",
        "\n",
        "Вспомните задачу по предсказанию стоимости поддержанного автомобиля. Попробуем обучить модель линейной регрессии для предсказания цены автомобиля (колонка `price`). Для этого проделайте следующие шаги:\n",
        "\n",
        "- Подготовьте данные: удалите колонки, которые косвенно содержат информацию о целевой переменной (`odometer/price_std`, `price_category`).\n",
        "- Разделите выборку на треин и тест в отношении 70/30.\n",
        "- Обучите модель линейной регрессии с дефолтными параметрами.\n",
        "- Посчитайте значение метрики mae на тестовой выборке для линейной регрессии.\n",
        "- Выведите получившиеся коэффициенты линейной регрессии при каждом параметре обучающей выборки с помощью метода `coef_`. Есть ли коэффициенты, которые равны нулю? Если есть, выведите названия фичей с нулевым коэффициентом\n",
        "- Удалите фичи, коэффициенты которых равны нулю. И переобучите модель. Убедитесь, что значение метрики не изменилось.\n",
        "\n"
      ]
    },
    {
      "cell_type": "code",
      "execution_count": 116,
      "metadata": {
        "id": "i1tH2p0nopsf"
      },
      "outputs": [
        {
          "name": "stdout",
          "output_type": "stream",
          "text": [
            "MAE = 4600.34111672715, R2 = 0.7279910776058394\n",
            "Фичи с нулевыми коэффициенты: \n",
            "1\n",
            "Удалим: manufacturer_ferrari\n",
            "MAE = 4600.341116175132, R2 = 0.7279910778120631\n"
          ]
        }
      ],
      "source": [
        "# Ваш код здесь\n",
        "df_pred = df.drop(['odometer/price_std', 'price_category'], axis=1)\n",
        "x = df_pred.drop([\"price\"], axis=1)\n",
        "y = df_pred.price\n",
        "\n",
        "def LinearRegressionFit(df_pred):\n",
        "    train, test = train_test_split(df_pred, test_size=0.3, random_state=42)\n",
        "    \n",
        "    x_train = train.drop(['price'], axis=1)\n",
        "    x_test = test.drop(['price'], axis=1)\n",
        "\n",
        "    linreg = LinearRegression()\n",
        "    linreg.fit(x_train, train.price)\n",
        "    pred_old = linreg.predict(x_test)\n",
        "    mae = mean_absolute_error(test.price, pred_old)\n",
        "    _r2_score = r2_score(test.price, pred_old)\n",
        "    print(f\"MAE = {mae}, R2 = {_r2_score}\")\n",
        "    return linreg, x_train, x_test, pred_old\n",
        "\n",
        "# Первоначальное предсказание\n",
        "\n",
        "linreg, x_train, x_test, pred = LinearRegressionFit(df_pred)\n",
        "print(\"Фичи с нулевыми коэффициенты: \")\n",
        "name_col = []\n",
        "for name, coef in zip(x_train.columns, linreg.coef_):\n",
        "    if coef == 0:\n",
        "        name_col.append(name)\n",
        "print(len(name_col))\n",
        "print(\"Удалим:\", *name_col)\n",
        "linreg_new, x_train_new, x_test_new, pred_new = LinearRegressionFit(df_pred.drop(name_col, axis=1))\n"
      ]
    },
    {
      "cell_type": "markdown",
      "metadata": {
        "id": "n3d55h5IQZoC"
      },
      "source": [
        "**Задача 1. Логистическая регрессия**\n",
        "\n",
        "Теперь в рамках тех же данных попробуйте предсказать `price_category` с помощью алгоритма логистической регрессии. Предварительно из датафрейма удалите переменные, в которых косвенно содержится информация о целевой переменной (`odometer/price_std`, `price`). \n",
        "\n",
        "Для обученной модели нужно:\n",
        "\n",
        "- рассчитать и вывести метрику качества (accuracy) на тренировочной выборке;\n",
        "- сделать предикт на тестовых данных и положить его в переменную `logreg_pred`;\n",
        "- рассчитать и вывести accuracy и confusion_matrix на тестовой выборке.\n",
        "\n",
        "\n",
        "Задание засчитывается, если: \n",
        "- accuracy на тренировочной выборке > 87%;\n",
        "- accuracy на тестовой выборке > 75.5%.\n",
        "\n",
        "Для улучшения метрики можно преобразовывать входные данные, тюнить параметры логистической регрессии."
      ]
    },
    {
      "cell_type": "code",
      "execution_count": 88,
      "metadata": {
        "id": "tZpWbWaMootx"
      },
      "outputs": [],
      "source": [
        "# Ваш код подготовки данных здесь. Допишите инициализацию входных фичей и целевую переменную\n",
        "df_pred = df.drop(['odometer/price_std', 'price', 'id'], axis=1)\n",
        "x = df_pred.drop(['price_category'], axis=1)\n",
        "y = df_pred.price_category\n",
        "\n",
        "x_train, x_test, y_train, y_test = train_test_split(x, y, test_size=0.3, random_state=42)\n",
        "\n",
        "\n"
      ]
    },
    {
      "cell_type": "code",
      "execution_count": 204,
      "metadata": {
        "id": "XQL-04-XpD_n"
      },
      "outputs": [
        {
          "name": "stdout",
          "output_type": "stream",
          "text": [
            "Тренировчная выборка = 0.87747, тестовая выборка = 0.76299\n",
            "[[805  23 169]\n",
            " [ 24 772 157]\n",
            " [147 164 625]]\n"
          ]
        }
      ],
      "source": [
        "# Ваш код обучения моделей здесь\n",
        "logreg = LogisticRegression(max_iter=500, C=2.8)\n",
        "logreg.fit(x_train, y_train)\n",
        "logreg_pred = logreg.predict(x_test)\n",
        "pred_train = logreg.predict(x_train)\n",
        "\n",
        "_score_train =  accuracy_score(y_train, pred_train)\n",
        "_score_test =  accuracy_score(y_test, logreg_pred)\n",
        "print(f'Тренировчная выборка = {_score_train:.5f}, тестовая выборка = {_score_test:.5f}')\n",
        "print(confusion_matrix(y_test, logreg_pred))"
      ]
    },
    {
      "cell_type": "markdown",
      "metadata": {
        "id": "sPYGPr0ssX1l"
      },
      "source": [
        "**Задача 2. Многослойный персептрон**\n",
        "\n",
        "Решите задачу, поставленную в предыдущем задании, применив модель многослойного персептрона. Добейтесь лучших значений точности на тренировочной и тестовой выборках, чем на логистической регрессии, с помощью данного алгоритма. \n",
        "\n",
        "Значимым увеличением точности в данном задании будем считать увеличение больше, чем на 0.01 по метрике accuracy."
      ]
    },
    {
      "cell_type": "code",
      "execution_count": 207,
      "metadata": {
        "id": "1CWqF0Pl44IW"
      },
      "outputs": [
        {
          "name": "stdout",
          "output_type": "stream",
          "text": [
            "0.77755\n"
          ]
        },
        {
          "name": "stderr",
          "output_type": "stream",
          "text": [
            "c:\\Users\\lorex\\anaconda3\\envs\\DataScience\\Lib\\site-packages\\sklearn\\neural_network\\_multilayer_perceptron.py:691: ConvergenceWarning: Stochastic Optimizer: Maximum iterations (200) reached and the optimization hasn't converged yet.\n",
            "  warnings.warn(\n"
          ]
        }
      ],
      "source": [
        "# Ваш код здесь\n",
        "df_pred = df.drop(['odometer/price_std', 'price', 'id'], axis=1)\n",
        "x = df_pred.drop(['price_category'], axis=1)\n",
        "y = df_pred.price_category\n",
        "\n",
        "x_train, x_test, y_train, y_test = train_test_split(x, y, test_size=0.3, random_state=42)\n",
        "\n",
        "# Обучение\n",
        "mlp = MLPClassifier(random_state=42,solver='adam', activation='logistic',max_iter=200)\n",
        "mlp.fit(x_train, y_train)\n",
        "pred = mlp.predict(x_test)\n",
        "print(f'{accuracy_score(y_test, pred):.5f}')"
      ]
    },
    {
      "cell_type": "markdown",
      "metadata": {
        "id": "6ru5oLsGBOLv"
      },
      "source": [
        "**Задача 3. Сравнение с древовидными моделями**\n",
        "\n",
        "Обучите модель случайного леса на тех же данных для предсказания `price_category`. Сравните качество с моделью логистической регрессии и многослойного персептрона. Словами опишите, какая из моделей в каких случаях работает лучше по результатам на тестовой выборке, и обоснуйте свой выбор."
      ]
    },
    {
      "cell_type": "code",
      "execution_count": 196,
      "metadata": {
        "id": "gYFQzRHM41Dg"
      },
      "outputs": [
        {
          "name": "stdout",
          "output_type": "stream",
          "text": [
            "Accurancy = 0.76403\n"
          ]
        }
      ],
      "source": [
        "from sklearn.ensemble import RandomForestClassifier\n",
        "# Ваш код здесь\n",
        "df_pred = df.drop(['odometer/price_std', 'price', 'id'], axis=1)\n",
        "x = df_pred.drop(['price_category'], axis=1)\n",
        "y = df_pred.price_category\n",
        "\n",
        "x_train, x_test, y_train, y_test = train_test_split(x, y, test_size=0.3, random_state=42)\n",
        "rf = RandomForestClassifier(n_estimators=400,min_samples_leaf=1, max_features='log2')\n",
        "rf.fit(x_train, y_train)\n",
        "pred = rf.predict(x_test)\n",
        "print(f\"Accurancy = {accuracy_score(y_test, pred):.5f}\")"
      ]
    },
    {
      "cell_type": "code",
      "execution_count": 193,
      "metadata": {},
      "outputs": [
        {
          "name": "stdout",
          "output_type": "stream",
          "text": [
            "Fitting 5 folds for each of 20 candidates, totalling 100 fits\n"
          ]
        },
        {
          "data": {
            "text/html": [
              "<style>#sk-container-id-2 {color: black;}#sk-container-id-2 pre{padding: 0;}#sk-container-id-2 div.sk-toggleable {background-color: white;}#sk-container-id-2 label.sk-toggleable__label {cursor: pointer;display: block;width: 100%;margin-bottom: 0;padding: 0.3em;box-sizing: border-box;text-align: center;}#sk-container-id-2 label.sk-toggleable__label-arrow:before {content: \"▸\";float: left;margin-right: 0.25em;color: #696969;}#sk-container-id-2 label.sk-toggleable__label-arrow:hover:before {color: black;}#sk-container-id-2 div.sk-estimator:hover label.sk-toggleable__label-arrow:before {color: black;}#sk-container-id-2 div.sk-toggleable__content {max-height: 0;max-width: 0;overflow: hidden;text-align: left;background-color: #f0f8ff;}#sk-container-id-2 div.sk-toggleable__content pre {margin: 0.2em;color: black;border-radius: 0.25em;background-color: #f0f8ff;}#sk-container-id-2 input.sk-toggleable__control:checked~div.sk-toggleable__content {max-height: 200px;max-width: 100%;overflow: auto;}#sk-container-id-2 input.sk-toggleable__control:checked~label.sk-toggleable__label-arrow:before {content: \"▾\";}#sk-container-id-2 div.sk-estimator input.sk-toggleable__control:checked~label.sk-toggleable__label {background-color: #d4ebff;}#sk-container-id-2 div.sk-label input.sk-toggleable__control:checked~label.sk-toggleable__label {background-color: #d4ebff;}#sk-container-id-2 input.sk-hidden--visually {border: 0;clip: rect(1px 1px 1px 1px);clip: rect(1px, 1px, 1px, 1px);height: 1px;margin: -1px;overflow: hidden;padding: 0;position: absolute;width: 1px;}#sk-container-id-2 div.sk-estimator {font-family: monospace;background-color: #f0f8ff;border: 1px dotted black;border-radius: 0.25em;box-sizing: border-box;margin-bottom: 0.5em;}#sk-container-id-2 div.sk-estimator:hover {background-color: #d4ebff;}#sk-container-id-2 div.sk-parallel-item::after {content: \"\";width: 100%;border-bottom: 1px solid gray;flex-grow: 1;}#sk-container-id-2 div.sk-label:hover label.sk-toggleable__label {background-color: #d4ebff;}#sk-container-id-2 div.sk-serial::before {content: \"\";position: absolute;border-left: 1px solid gray;box-sizing: border-box;top: 0;bottom: 0;left: 50%;z-index: 0;}#sk-container-id-2 div.sk-serial {display: flex;flex-direction: column;align-items: center;background-color: white;padding-right: 0.2em;padding-left: 0.2em;position: relative;}#sk-container-id-2 div.sk-item {position: relative;z-index: 1;}#sk-container-id-2 div.sk-parallel {display: flex;align-items: stretch;justify-content: center;background-color: white;position: relative;}#sk-container-id-2 div.sk-item::before, #sk-container-id-2 div.sk-parallel-item::before {content: \"\";position: absolute;border-left: 1px solid gray;box-sizing: border-box;top: 0;bottom: 0;left: 50%;z-index: -1;}#sk-container-id-2 div.sk-parallel-item {display: flex;flex-direction: column;z-index: 1;position: relative;background-color: white;}#sk-container-id-2 div.sk-parallel-item:first-child::after {align-self: flex-end;width: 50%;}#sk-container-id-2 div.sk-parallel-item:last-child::after {align-self: flex-start;width: 50%;}#sk-container-id-2 div.sk-parallel-item:only-child::after {width: 0;}#sk-container-id-2 div.sk-dashed-wrapped {border: 1px dashed gray;margin: 0 0.4em 0.5em 0.4em;box-sizing: border-box;padding-bottom: 0.4em;background-color: white;}#sk-container-id-2 div.sk-label label {font-family: monospace;font-weight: bold;display: inline-block;line-height: 1.2em;}#sk-container-id-2 div.sk-label-container {text-align: center;}#sk-container-id-2 div.sk-container {/* jupyter's `normalize.less` sets `[hidden] { display: none; }` but bootstrap.min.css set `[hidden] { display: none !important; }` so we also need the `!important` here to be able to override the default hidden behavior on the sphinx rendered scikit-learn.org. See: https://github.com/scikit-learn/scikit-learn/issues/21755 */display: inline-block !important;position: relative;}#sk-container-id-2 div.sk-text-repr-fallback {display: none;}</style><div id=\"sk-container-id-2\" class=\"sk-top-container\"><div class=\"sk-text-repr-fallback\"><pre>RandomizedSearchCV(estimator=RandomForestClassifier(), n_iter=20, n_jobs=-1,\n",
              "                   param_distributions={&#x27;max_features&#x27;: [&#x27;sqrt&#x27;, &#x27;log2&#x27;],\n",
              "                                        &#x27;min_samples_leaf&#x27;: [1, 2, 3, 4, 5, 6,\n",
              "                                                             7, 8, 9],\n",
              "                                        &#x27;n_estimators&#x27;: range(100, 201, 100)},\n",
              "                   scoring=&#x27;accuracy&#x27;, verbose=1)</pre><b>In a Jupyter environment, please rerun this cell to show the HTML representation or trust the notebook. <br />On GitHub, the HTML representation is unable to render, please try loading this page with nbviewer.org.</b></div><div class=\"sk-container\" hidden><div class=\"sk-item sk-dashed-wrapped\"><div class=\"sk-label-container\"><div class=\"sk-label sk-toggleable\"><input class=\"sk-toggleable__control sk-hidden--visually\" id=\"sk-estimator-id-4\" type=\"checkbox\" ><label for=\"sk-estimator-id-4\" class=\"sk-toggleable__label sk-toggleable__label-arrow\">RandomizedSearchCV</label><div class=\"sk-toggleable__content\"><pre>RandomizedSearchCV(estimator=RandomForestClassifier(), n_iter=20, n_jobs=-1,\n",
              "                   param_distributions={&#x27;max_features&#x27;: [&#x27;sqrt&#x27;, &#x27;log2&#x27;],\n",
              "                                        &#x27;min_samples_leaf&#x27;: [1, 2, 3, 4, 5, 6,\n",
              "                                                             7, 8, 9],\n",
              "                                        &#x27;n_estimators&#x27;: range(100, 201, 100)},\n",
              "                   scoring=&#x27;accuracy&#x27;, verbose=1)</pre></div></div></div><div class=\"sk-parallel\"><div class=\"sk-parallel-item\"><div class=\"sk-item\"><div class=\"sk-label-container\"><div class=\"sk-label sk-toggleable\"><input class=\"sk-toggleable__control sk-hidden--visually\" id=\"sk-estimator-id-5\" type=\"checkbox\" ><label for=\"sk-estimator-id-5\" class=\"sk-toggleable__label sk-toggleable__label-arrow\">estimator: RandomForestClassifier</label><div class=\"sk-toggleable__content\"><pre>RandomForestClassifier()</pre></div></div></div><div class=\"sk-serial\"><div class=\"sk-item\"><div class=\"sk-estimator sk-toggleable\"><input class=\"sk-toggleable__control sk-hidden--visually\" id=\"sk-estimator-id-6\" type=\"checkbox\" ><label for=\"sk-estimator-id-6\" class=\"sk-toggleable__label sk-toggleable__label-arrow\">RandomForestClassifier</label><div class=\"sk-toggleable__content\"><pre>RandomForestClassifier()</pre></div></div></div></div></div></div></div></div></div></div>"
            ],
            "text/plain": [
              "RandomizedSearchCV(estimator=RandomForestClassifier(), n_iter=20, n_jobs=-1,\n",
              "                   param_distributions={'max_features': ['sqrt', 'log2'],\n",
              "                                        'min_samples_leaf': [1, 2, 3, 4, 5, 6,\n",
              "                                                             7, 8, 9],\n",
              "                                        'n_estimators': range(100, 201, 100)},\n",
              "                   scoring='accuracy', verbose=1)"
            ]
          },
          "execution_count": 193,
          "metadata": {},
          "output_type": "execute_result"
        }
      ],
      "source": [
        "from sklearn.model_selection import RandomizedSearchCV\n",
        "rf_clf = RandomForestClassifier()\n",
        "\n",
        "# Инициализиурем сетку для переборов параметров\n",
        "param_grid = {\n",
        "    'n_estimators': range(100, 201,100),\n",
        "   'max_features': ['sqrt', 'log2'],\n",
        "   'min_samples_leaf': list(range(1, 10))\n",
        "}\n",
        "\n",
        "randomized_search_rf  = RandomizedSearchCV(\n",
        "   estimator=rf_clf,\n",
        "   n_iter= 20,\n",
        "   param_distributions=param_grid,\n",
        "   scoring='accuracy',\n",
        "   verbose=1,\n",
        "   n_jobs=-1\n",
        ")\n",
        "randomized_search_rf.fit(x_train, y_train)"
      ]
    },
    {
      "cell_type": "code",
      "execution_count": 194,
      "metadata": {},
      "outputs": [
        {
          "name": "stdout",
          "output_type": "stream",
          "text": [
            "{'n_estimators': 200, 'min_samples_leaf': 1, 'max_features': 'log2'}\n"
          ]
        }
      ],
      "source": [
        "best_params = randomized_search_rf.best_params_ \n",
        "print(best_params)"
      ]
    },
    {
      "cell_type": "markdown",
      "metadata": {
        "id": "-DrgXqjv2Rgk"
      },
      "source": [
        "**Задача 4. Стратегия голосования**\n",
        "\n",
        "Реализуйте стратегию голосования для предсказания целевой переменной.\n",
        "Голосование в задаче классификации — это когда несколько моделей выдают свои предикты, и финальным выбирается тот предикт, который предсказали большинство моделей.\n",
        "\n",
        "Для реализации этой стратегии проделайте следующее:\n",
        "\n",
        "- сохраните предсказания каждой из моделей (случайный лес, многослойный персептрон, логистическая регрессия) для тестовой выборки в датафрейм `pred_df`;\n",
        "- в четвертую колонку `target` положите тот класс, который предсказало большинство классификаторов. Например, если в строке были значения `high, medium, medium`, в `target` нужно положить `medium`.\n",
        "\n",
        "     Если в строке три разных класса — `high, medium, low`, — придумайте свою стратегию по выбору значения. Самая простая стратегия: выбрать рандомно одно значение из трёх.\n",
        "\n",
        "- посчитайте точность предсказания с помощью голосования. Выведите значения метрик accuracy и confusion_matrix.\n",
        "\n",
        "\n",
        "Добейтесь значения точности > 78% "
      ]
    },
    {
      "cell_type": "code",
      "execution_count": 209,
      "metadata": {
        "id": "KKTpNxaK5UhX"
      },
      "outputs": [
        {
          "name": "stdout",
          "output_type": "stream",
          "text": [
            "0.7837837837837838\n",
            "[[815  23 159]\n",
            " [ 14 804 135]\n",
            " [132 161 643]]\n"
          ]
        }
      ],
      "source": [
        "# Ваш код здесь\n",
        "df_pred = df.drop(['odometer/price_std', 'price', 'id'], axis=1)\n",
        "x = df_pred.drop(['price_category'], axis=1)\n",
        "y = df_pred.price_category\n",
        "\n",
        "x_train, x_test, y_train, y_test = train_test_split(x, y, test_size=0.3, random_state=42)\n",
        "\n",
        "pred_df = pd.DataFrame(columns=['RandomForest', \"LogReg\", \"MLP\", \"target\"])\n",
        "pred_rf = rf.predict(x_test)\n",
        "pred_log = logreg.predict(x_test)\n",
        "pred_mlp = mlp.predict(x_test)\n",
        "pred_df.RandomForest = pred_rf\n",
        "pred_df.LogReg = pred_log\n",
        "pred_df.MLP = pred_mlp\n",
        "\n",
        "\n",
        "pred_df.target = pred_df.apply(lambda x: max([x.RandomForest, x.LogReg, x.MLP], key=lambda y: [x.RandomForest, x.LogReg, x.MLP].count(y)), axis=1)\n",
        "\n",
        "pred_target = pred_df.target\n",
        "print(accuracy_score(y_test, pred_target))\n",
        "print(confusion_matrix(y_test, pred_target))"
      ]
    },
    {
      "cell_type": "markdown",
      "metadata": {
        "id": "FmuF3_05i2AD"
      },
      "source": [
        "**Примечание:**\n",
        "\n",
        "В этом домашнем задании в задаче номер 1 и далее перед вами встал выбор: включать ли в обучение колонку `id`. При удалении данной колонки во время обучении логистической регрессии качество заметно улучшается.\n",
        "\n",
        "Вообще обучать любую модель (будь то логистическая или линейная регрессия, или древовидный алгоритм) на данных айдишников не считается хорошей практикой. Как правило, между `id` и целевой переменной не должно быть никаких взаимосвязей. Включая колонку `id` в качества атрибута в обучение, вы стараетесь \"заточить\" результаты своей модели под айдишники записей. Таким образом модель обучится на некотором наборе \"частных случаев\", и, возможно, не обратит внимание на общие зависимости.   "
      ]
    },
    {
      "cell_type": "code",
      "execution_count": null,
      "metadata": {
        "id": "47FEptPukDSs"
      },
      "outputs": [],
      "source": []
    }
  ],
  "metadata": {
    "colab": {
      "collapsed_sections": [],
      "name": "Домашняя работа.ipynb",
      "provenance": []
    },
    "kernelspec": {
      "display_name": "Python 3",
      "name": "python3"
    },
    "language_info": {
      "codemirror_mode": {
        "name": "ipython",
        "version": 3
      },
      "file_extension": ".py",
      "mimetype": "text/x-python",
      "name": "python",
      "nbconvert_exporter": "python",
      "pygments_lexer": "ipython3",
      "version": "3.11.5"
    }
  },
  "nbformat": 4,
  "nbformat_minor": 0
}
