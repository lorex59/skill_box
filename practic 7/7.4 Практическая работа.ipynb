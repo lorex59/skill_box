{
  "cells": [
    {
      "cell_type": "markdown",
      "metadata": {
        "id": "veTO4_6tQxFR"
      },
      "source": [
        "# Циклы. Практическая работа\n",
        "\n",
        "###Цели работы\n",
        "Закрепить на практике применение циклов for, while и использование команд break, continue, pass.\n",
        "\n",
        "###Что нужно сделать\n",
        "Скачайте файл с заданием, откройте его через Jupyter Notebook и выполните задачи.\n",
        "\n",
        "###Что оценивается\n",
        "Для каждой задачи:\n",
        "- программа выполняет все требуемые действия;\n",
        "- результаты вычислений и операций корректны;\n",
        "- вывод производится в том виде, который описан в задаче;\n",
        "- переменные названы информативно.\n",
        "\n",
        "### Как отправить работу на проверку\n",
        "Выполните задачи, сохраните изменения при помощи опции Save and Checkpoint из вкладки меню File или кнопки Save and Checkpoint на панели инструментов. Отправьте через форму ниже итоговый файл Jupyter Notebook .ipynb или ссылку на него.\n",
        "\n"
      ]
    },
    {
      "cell_type": "markdown",
      "metadata": {
        "id": "r-2XwatHSvif"
      },
      "source": [
        "1. Напишите цикл, который выводит на печать все високосные годы начиная с 2020 года, но не позже 2050 года."
      ]
    },
    {
      "cell_type": "code",
      "execution_count": 1,
      "metadata": {
        "id": "Zy0UG5ZwCx8Q"
      },
      "outputs": [
        {
          "name": "stdout",
          "output_type": "stream",
          "text": [
            "Високосный год 2020\n",
            "Високосный год 2024\n",
            "Високосный год 2028\n",
            "Високосный год 2032\n",
            "Високосный год 2036\n",
            "Високосный год 2040\n",
            "Високосный год 2044\n",
            "Високосный год 2048\n"
          ]
        }
      ],
      "source": [
        "for i in range(2020, 2050 + 1):\n",
        "    if i % 4 == 0:\n",
        "        print(\"Високосный год\", i)"
      ]
    },
    {
      "cell_type": "markdown",
      "metadata": {
        "id": "grErwV6YS62m"
      },
      "source": [
        "2. Студент Джонсон поступил в университет и взял в кредит 120 тысяч долларов под 6% годовых. Все шесть лет учёбы в бакалавриате и магистратуре он не сможет выплачивать кредит, и процент будет прибавляться к основному кредиту. Напишите программу, которая посчитает, сколько студент Джонсон будет должен банку к концу своего обучения."
      ]
    },
    {
      "cell_type": "code",
      "execution_count": 5,
      "metadata": {
        "id": "vyqbfM3sVp40"
      },
      "outputs": [
        {
          "name": "stdout",
          "output_type": "stream",
          "text": [
            "170222.29347072003\n",
            "170222.29347072003\n"
          ]
        }
      ],
      "source": [
        "# Начальная сумма\n",
        "loan = 120000\n",
        "for i in range(6):\n",
        "    loan *= 1.06\n",
        "print(loan)\n",
        "loan = 120000\n",
        "print(loan * 1.06**6)"
      ]
    },
    {
      "cell_type": "markdown",
      "metadata": {
        "id": "-N68Ul6iXm6X"
      },
      "source": [
        "3. Вспомним задачу о [зёрнах на шахматной доске](https://ru.wikipedia.org/wiki/%D0%97%D0%B0%D0%B4%D0%B0%D1%87%D0%B0_%D0%BE_%D0%B7%D1%91%D1%80%D0%BD%D0%B0%D1%85_%D0%BD%D0%B0_%D1%88%D0%B0%D1%85%D0%BC%D0%B0%D1%82%D0%BD%D0%BE%D0%B9_%D0%B4%D0%BE%D1%81%D0%BA%D0%B5). На первую клетку кладётся одно зерно, на вторую — два зерна, на третью — четыре, затем — восемь. С каждой клеткой количество зёрен увеличивается в два раза.\n",
        "\n",
        "Напишите цикл, который выводил бы на печать порядковый номер клетки и количество зёрен на ней до тех пор, пока их количество на одной клетке не превысит 100 тысяч.\n"
      ]
    },
    {
      "cell_type": "code",
      "execution_count": 10,
      "metadata": {
        "id": "iqOEykTLXjFk"
      },
      "outputs": [
        {
          "name": "stdout",
          "output_type": "stream",
          "text": [
            "17 65536\n"
          ]
        }
      ],
      "source": [
        "end = 100_000\n",
        "k = 1\n",
        "_count = 1\n",
        "while _count < end / 2:\n",
        "    _count *= 2\n",
        "    k += 1\n",
        "print(k, _count)"
      ]
    },
    {
      "cell_type": "markdown",
      "metadata": {
        "id": "oSkgnq73b62i"
      },
      "source": [
        "4. Напишите программу, которая проверяла бы все числа от 0 до 30. Если число делится на два, его нужно напечатать. Но, если число делится и на четыре, его нужно пропустить."
      ]
    },
    {
      "cell_type": "code",
      "execution_count": 12,
      "metadata": {
        "id": "CYuIIxjOjwZd"
      },
      "outputs": [
        {
          "name": "stdout",
          "output_type": "stream",
          "text": [
            "2\n",
            "6\n",
            "10\n",
            "14\n",
            "18\n",
            "22\n",
            "26\n",
            "30\n"
          ]
        }
      ],
      "source": [
        "for i in range(0, 30 + 1):\n",
        "    if (i % 2 == 0) and (i % 4 != 0):\n",
        "        print(i)"
      ]
    },
    {
      "cell_type": "markdown",
      "metadata": {
        "id": "VXoxvHZKjymf"
      },
      "source": [
        "5. Напишите программу, которая бесконечно запрашивает на ввод целое число и после каждого ввода печатает на экране ответ в соответствии со следующими условиями:\n",
        "  * Если введённое число делится на три, то печатается это же число.\n",
        "  * Если делится на пять, то на печать выводится его квадрат. Если же это число одновременно делится и на пять, и на три, то на экране должно появиться само число в соответствии с прошлым условием, а затем и его квадрат. То есть сначала должно отработать прошлое условие, а затем текущее. \n",
        "  * Если число делится на семь, нужно вывести на печать «дурак совсем» и прервать выполнение программы. \n",
        "  * Во всех остальных случаях программа должна снова запросить число на ввод.\n",
        "\n",
        "**Подсказка**\n",
        "\n",
        "Чтобы проверить, что программа работает верно, можно использовать следующие числа для теста: \n",
        "* 3 (в ответ печатается 3);\n",
        "* 5 (в ответ печатается 25);\n",
        "* 15 (в ответ печатается 15 и 225);\n",
        "* 1 (ничего не печатается, запрашивается следующее число на ввод);\n",
        "* 7 (в ответ печатается «дурак совсем», программа прерывается)."
      ]
    },
    {
      "cell_type": "code",
      "execution_count": 19,
      "metadata": {
        "id": "EEyux6ehlbI4"
      },
      "outputs": [
        {
          "name": "stdout",
          "output_type": "stream",
          "text": [
            "3\n",
            "Следующее число\n",
            "3\n",
            "Следующее число\n"
          ]
        },
        {
          "ename": "KeyboardInterrupt",
          "evalue": "Interrupted by user",
          "output_type": "error",
          "traceback": [
            "\u001b[1;31m---------------------------------------------------------------------------\u001b[0m",
            "\u001b[1;31mKeyboardInterrupt\u001b[0m                         Traceback (most recent call last)",
            "\u001b[1;32md:\\STUDY\\ds_skill\\python\\7.4 Практическая работа.ipynb Cell 11\u001b[0m line \u001b[0;36m2\n\u001b[0;32m      <a href='vscode-notebook-cell:/d%3A/STUDY/ds_skill/python/7.4%20%D0%9F%D1%80%D0%B0%D0%BA%D1%82%D0%B8%D1%87%D0%B5%D1%81%D0%BA%D0%B0%D1%8F%20%D1%80%D0%B0%D0%B1%D0%BE%D1%82%D0%B0.ipynb#X13sZmlsZQ%3D%3D?line=0'>1</a>\u001b[0m \u001b[39mwhile\u001b[39;00m \u001b[39mTrue\u001b[39;00m:\n\u001b[1;32m----> <a href='vscode-notebook-cell:/d%3A/STUDY/ds_skill/python/7.4%20%D0%9F%D1%80%D0%B0%D0%BA%D1%82%D0%B8%D1%87%D0%B5%D1%81%D0%BA%D0%B0%D1%8F%20%D1%80%D0%B0%D0%B1%D0%BE%D1%82%D0%B0.ipynb#X13sZmlsZQ%3D%3D?line=1'>2</a>\u001b[0m     number \u001b[39m=\u001b[39m \u001b[39mint\u001b[39m(\u001b[39minput\u001b[39m())\n\u001b[0;32m      <a href='vscode-notebook-cell:/d%3A/STUDY/ds_skill/python/7.4%20%D0%9F%D1%80%D0%B0%D0%BA%D1%82%D0%B8%D1%87%D0%B5%D1%81%D0%BA%D0%B0%D1%8F%20%D1%80%D0%B0%D0%B1%D0%BE%D1%82%D0%B0.ipynb#X13sZmlsZQ%3D%3D?line=2'>3</a>\u001b[0m     \u001b[39mif\u001b[39;00m number \u001b[39m%\u001b[39m \u001b[39m3\u001b[39m \u001b[39m==\u001b[39m \u001b[39m0\u001b[39m:\n\u001b[0;32m      <a href='vscode-notebook-cell:/d%3A/STUDY/ds_skill/python/7.4%20%D0%9F%D1%80%D0%B0%D0%BA%D1%82%D0%B8%D1%87%D0%B5%D1%81%D0%BA%D0%B0%D1%8F%20%D1%80%D0%B0%D0%B1%D0%BE%D1%82%D0%B0.ipynb#X13sZmlsZQ%3D%3D?line=3'>4</a>\u001b[0m         \u001b[39mprint\u001b[39m(number)\n",
            "File \u001b[1;32mc:\\Users\\lorex\\anaconda3\\envs\\DataScience\\Lib\\site-packages\\ipykernel\\kernelbase.py:1175\u001b[0m, in \u001b[0;36mKernel.raw_input\u001b[1;34m(self, prompt)\u001b[0m\n\u001b[0;32m   1171\u001b[0m \u001b[39mif\u001b[39;00m \u001b[39mnot\u001b[39;00m \u001b[39mself\u001b[39m\u001b[39m.\u001b[39m_allow_stdin:\n\u001b[0;32m   1172\u001b[0m     \u001b[39mraise\u001b[39;00m StdinNotImplementedError(\n\u001b[0;32m   1173\u001b[0m         \u001b[39m\"\u001b[39m\u001b[39mraw_input was called, but this frontend does not support input requests.\u001b[39m\u001b[39m\"\u001b[39m\n\u001b[0;32m   1174\u001b[0m     )\n\u001b[1;32m-> 1175\u001b[0m \u001b[39mreturn\u001b[39;00m \u001b[39mself\u001b[39m\u001b[39m.\u001b[39m_input_request(\n\u001b[0;32m   1176\u001b[0m     \u001b[39mstr\u001b[39m(prompt),\n\u001b[0;32m   1177\u001b[0m     \u001b[39mself\u001b[39m\u001b[39m.\u001b[39m_parent_ident[\u001b[39m\"\u001b[39m\u001b[39mshell\u001b[39m\u001b[39m\"\u001b[39m],\n\u001b[0;32m   1178\u001b[0m     \u001b[39mself\u001b[39m\u001b[39m.\u001b[39mget_parent(\u001b[39m\"\u001b[39m\u001b[39mshell\u001b[39m\u001b[39m\"\u001b[39m),\n\u001b[0;32m   1179\u001b[0m     password\u001b[39m=\u001b[39m\u001b[39mFalse\u001b[39;00m,\n\u001b[0;32m   1180\u001b[0m )\n",
            "File \u001b[1;32mc:\\Users\\lorex\\anaconda3\\envs\\DataScience\\Lib\\site-packages\\ipykernel\\kernelbase.py:1217\u001b[0m, in \u001b[0;36mKernel._input_request\u001b[1;34m(self, prompt, ident, parent, password)\u001b[0m\n\u001b[0;32m   1214\u001b[0m             \u001b[39mbreak\u001b[39;00m\n\u001b[0;32m   1215\u001b[0m \u001b[39mexcept\u001b[39;00m \u001b[39mKeyboardInterrupt\u001b[39;00m:\n\u001b[0;32m   1216\u001b[0m     \u001b[39m# re-raise KeyboardInterrupt, to truncate traceback\u001b[39;00m\n\u001b[1;32m-> 1217\u001b[0m     \u001b[39mraise\u001b[39;00m \u001b[39mKeyboardInterrupt\u001b[39;00m(\u001b[39m\"\u001b[39m\u001b[39mInterrupted by user\u001b[39m\u001b[39m\"\u001b[39m) \u001b[39mfrom\u001b[39;00m \u001b[39mNone\u001b[39;00m\n\u001b[0;32m   1218\u001b[0m \u001b[39mexcept\u001b[39;00m \u001b[39mException\u001b[39;00m:\n\u001b[0;32m   1219\u001b[0m     \u001b[39mself\u001b[39m\u001b[39m.\u001b[39mlog\u001b[39m.\u001b[39mwarning(\u001b[39m\"\u001b[39m\u001b[39mInvalid Message:\u001b[39m\u001b[39m\"\u001b[39m, exc_info\u001b[39m=\u001b[39m\u001b[39mTrue\u001b[39;00m)\n",
            "\u001b[1;31mKeyboardInterrupt\u001b[0m: Interrupted by user"
          ]
        }
      ],
      "source": [
        "while True:\n",
        "    number = int(input())\n",
        "    if number % 3 == 0:\n",
        "        print(number)\n",
        "        if number % 5 == 0:\n",
        "            print(number ** 2)\n",
        "    elif number % 5 == 0:\n",
        "        print(number ** 2)\n",
        "    elif i % 7 == 0:\n",
        "        print(\"дурак совсем\")\n"
      ]
    }
  ],
  "metadata": {
    "colab": {
      "collapsed_sections": [],
      "provenance": []
    },
    "kernelspec": {
      "display_name": "Python 3",
      "name": "python3"
    },
    "language_info": {
      "codemirror_mode": {
        "name": "ipython",
        "version": 3
      },
      "file_extension": ".py",
      "mimetype": "text/x-python",
      "name": "python",
      "nbconvert_exporter": "python",
      "pygments_lexer": "ipython3",
      "version": "3.11.4"
    }
  },
  "nbformat": 4,
  "nbformat_minor": 0
}
